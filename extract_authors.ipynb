{
 "cells": [
  {
   "cell_type": "markdown",
   "metadata": {},
   "source": [
    "# Import necessary packages"
   ]
  },
  {
   "cell_type": "code",
   "execution_count": 1,
   "metadata": {},
   "outputs": [],
   "source": [
    "import pprint\n",
    "\n",
    "import pandas as pd\n",
    "import pybliometrics\n",
    "from pybliometrics.scopus import AuthorRetrieval\n",
    "import tqdm"
   ]
  },
  {
   "cell_type": "markdown",
   "metadata": {},
   "source": [
    "# Initialize `pybibliometrics`\n",
    "\n",
    "##### In order to run this, you will need a Scopus API key from here: https://dev.elsevier.com/"
   ]
  },
  {
   "cell_type": "code",
   "execution_count": 2,
   "metadata": {},
   "outputs": [],
   "source": [
    "pybliometrics.scopus.init()"
   ]
  },
  {
   "cell_type": "markdown",
   "metadata": {},
   "source": [
    "# Get random author and see their number of co-authors"
   ]
  },
  {
   "cell_type": "code",
   "execution_count": 3,
   "metadata": {},
   "outputs": [
    {
     "name": "stdout",
     "output_type": "stream",
     "text": [
      "Clifton David Fuller (ORCID = 0000-0002-5264-3994, H-index = 59)\n"
     ]
    }
   ],
   "source": [
    "# Dr. Clifton D. Fuller\n",
    "sample_author_ID = 7202433367\n",
    "sample_author = AuthorRetrieval(sample_author_ID)\n",
    "print(f'{sample_author.given_name} {sample_author.surname} (ORCID = {sample_author.orcid}, H-index = {sample_author.h_index})')"
   ]
  },
  {
   "cell_type": "markdown",
   "metadata": {},
   "source": [
    "# Print the number of co-authors"
   ]
  },
  {
   "cell_type": "code",
   "execution_count": 4,
   "metadata": {},
   "outputs": [
    {
     "data": {
      "text/plain": [
       "1925"
      ]
     },
     "execution_count": 4,
     "metadata": {},
     "output_type": "execute_result"
    }
   ],
   "source": [
    "sample_author.coauthor_count"
   ]
  },
  {
   "cell_type": "markdown",
   "metadata": {},
   "source": [
    "# Get each of the co-authors\n",
    "### *Note how only 160 at most are returned*"
   ]
  },
  {
   "cell_type": "code",
   "execution_count": 5,
   "metadata": {},
   "outputs": [
    {
     "name": "stdout",
     "output_type": "stream",
     "text": [
      "160\n"
     ]
    }
   ],
   "source": [
    "all_sample_coauthors = sample_author.get_coauthors()\n",
    "print(len(all_sample_coauthors))"
   ]
  },
  {
   "cell_type": "markdown",
   "metadata": {},
   "source": [
    "# One way, we must get all the co-authors the hard way...\n",
    "\n",
    "##### 1. Go to author profile: https://www.scopus.com/authid/detail.uri?authorId=7202433367\n",
    "##### 2. Click on the `Documents` tab\n",
    "##### 3. Click on the `Export All` dropdown\n",
    "##### 4. Select `CSV`\n",
    "##### 5. De-Select everything except `Author(s)`\n",
    "##### 6. Click on `Export`\n",
    "##### 7. Save the document as `scopus_coauthors.csv` and place in this directory"
   ]
  },
  {
   "cell_type": "code",
   "execution_count": 6,
   "metadata": {},
   "outputs": [
    {
     "data": {
      "text/html": [
       "<div>\n",
       "<style scoped>\n",
       "    .dataframe tbody tr th:only-of-type {\n",
       "        vertical-align: middle;\n",
       "    }\n",
       "\n",
       "    .dataframe tbody tr th {\n",
       "        vertical-align: top;\n",
       "    }\n",
       "\n",
       "    .dataframe thead th {\n",
       "        text-align: right;\n",
       "    }\n",
       "</style>\n",
       "<table border=\"1\" class=\"dataframe\">\n",
       "  <thead>\n",
       "    <tr style=\"text-align: right;\">\n",
       "      <th></th>\n",
       "      <th>Authors</th>\n",
       "      <th>Author full names</th>\n",
       "      <th>Author(s) ID</th>\n",
       "      <th>Link</th>\n",
       "    </tr>\n",
       "  </thead>\n",
       "  <tbody>\n",
       "    <tr>\n",
       "      <th>0</th>\n",
       "      <td>Sherry A.D.; Lin T.A.; McCaw Z.R.; Beck E.J.; ...</td>\n",
       "      <td>Sherry, Alexander D. (57205157045); Lin, Timot...</td>\n",
       "      <td>57205157045; 57202090381; 57190581018; 5826497...</td>\n",
       "      <td>https://www.scopus.com/inward/record.uri?eid=2...</td>\n",
       "    </tr>\n",
       "    <tr>\n",
       "      <th>1</th>\n",
       "      <td>Koutroumpakis E.; Mohamed A.S.R.; Chaftari P.;...</td>\n",
       "      <td>Koutroumpakis, Efstratios (55661655500); Moham...</td>\n",
       "      <td>55661655500; 57206991491; 58662576000; 7403187...</td>\n",
       "      <td>https://www.scopus.com/inward/record.uri?eid=2...</td>\n",
       "    </tr>\n",
       "    <tr>\n",
       "      <th>2</th>\n",
       "      <td>Reber B.; Van Dijk L.; Anderson B.; Mohamed A....</td>\n",
       "      <td>Reber, Brandon (58090241100); Van Dijk, Lisann...</td>\n",
       "      <td>58090241100; 57189041734; 57194441526; 5720699...</td>\n",
       "      <td>https://www.scopus.com/inward/record.uri?eid=2...</td>\n",
       "    </tr>\n",
       "    <tr>\n",
       "      <th>3</th>\n",
       "      <td>Wahid K.A.; Cardenas C.E.; Marquez B.; Nethert...</td>\n",
       "      <td>Wahid, Kareem A. (56531684600); Cardenas, Carl...</td>\n",
       "      <td>56531684600; 57191960444; 57412736600; 5719444...</td>\n",
       "      <td>https://www.scopus.com/inward/record.uri?eid=2...</td>\n",
       "    </tr>\n",
       "    <tr>\n",
       "      <th>4</th>\n",
       "      <td>Andrearczyk V.; Oreiller V.; Abobakr M.; Akhav...</td>\n",
       "      <td>Andrearczyk, Vincent (57190974414); Oreiller, ...</td>\n",
       "      <td>57190974414; 57217480393; 57205445488; 5720793...</td>\n",
       "      <td>https://www.scopus.com/inward/record.uri?eid=2...</td>\n",
       "    </tr>\n",
       "  </tbody>\n",
       "</table>\n",
       "</div>"
      ],
      "text/plain": [
       "                                             Authors  \\\n",
       "0  Sherry A.D.; Lin T.A.; McCaw Z.R.; Beck E.J.; ...   \n",
       "1  Koutroumpakis E.; Mohamed A.S.R.; Chaftari P.;...   \n",
       "2  Reber B.; Van Dijk L.; Anderson B.; Mohamed A....   \n",
       "3  Wahid K.A.; Cardenas C.E.; Marquez B.; Nethert...   \n",
       "4  Andrearczyk V.; Oreiller V.; Abobakr M.; Akhav...   \n",
       "\n",
       "                                   Author full names  \\\n",
       "0  Sherry, Alexander D. (57205157045); Lin, Timot...   \n",
       "1  Koutroumpakis, Efstratios (55661655500); Moham...   \n",
       "2  Reber, Brandon (58090241100); Van Dijk, Lisann...   \n",
       "3  Wahid, Kareem A. (56531684600); Cardenas, Carl...   \n",
       "4  Andrearczyk, Vincent (57190974414); Oreiller, ...   \n",
       "\n",
       "                                        Author(s) ID  \\\n",
       "0  57205157045; 57202090381; 57190581018; 5826497...   \n",
       "1  55661655500; 57206991491; 58662576000; 7403187...   \n",
       "2  58090241100; 57189041734; 57194441526; 5720699...   \n",
       "3  56531684600; 57191960444; 57412736600; 5719444...   \n",
       "4  57190974414; 57217480393; 57205445488; 5720793...   \n",
       "\n",
       "                                                Link  \n",
       "0  https://www.scopus.com/inward/record.uri?eid=2...  \n",
       "1  https://www.scopus.com/inward/record.uri?eid=2...  \n",
       "2  https://www.scopus.com/inward/record.uri?eid=2...  \n",
       "3  https://www.scopus.com/inward/record.uri?eid=2...  \n",
       "4  https://www.scopus.com/inward/record.uri?eid=2...  "
      ]
     },
     "metadata": {},
     "output_type": "display_data"
    },
    {
     "name": "stdout",
     "output_type": "stream",
     "text": [
      "1925\n"
     ]
    }
   ],
   "source": [
    "temp_df = pd.read_csv('scopus_coauthors.csv')\n",
    "display(temp_df.head())\n",
    "all_coauthor_IDs = temp_df['Author(s) ID'].tolist()\n",
    "all_coauthor_IDs = set([int(coauth.strip()) for paper in all_coauthor_IDs for coauth in paper.split(';')])\n",
    "# Remove the sample author\n",
    "all_coauthor_IDs.remove(sample_author_ID)\n",
    "print(len(all_coauthor_IDs))"
   ]
  },
  {
   "cell_type": "markdown",
   "metadata": {},
   "source": [
    "# Instead, an easier way, look at all the publications and extract the authors"
   ]
  },
  {
   "cell_type": "code",
   "execution_count": 7,
   "metadata": {},
   "outputs": [
    {
     "name": "stdout",
     "output_type": "stream",
     "text": [
      "1903\n"
     ]
    }
   ],
   "source": [
    "# Get all publications\n",
    "all_sample_pubs = sample_author.get_documents()\n",
    "\n",
    "all_coauthor_IDs = []\n",
    "for pub in all_sample_pubs:\n",
    "    for coauthor_id in pub.author_ids.split(';'):\n",
    "        coauthor_id = int(coauthor_id)\n",
    "        if coauthor_id not in all_coauthor_IDs:\n",
    "            all_coauthor_IDs.append(coauthor_id)\n",
    "\n",
    "print(len(all_coauthor_IDs))"
   ]
  },
  {
   "cell_type": "markdown",
   "metadata": {},
   "source": [
    "# Get relevant information from the co-authors"
   ]
  },
  {
   "cell_type": "code",
   "execution_count": 8,
   "metadata": {},
   "outputs": [
    {
     "name": "stderr",
     "output_type": "stream",
     "text": [
      "100%|██████████| 1903/1903 [00:15<00:00, 125.95it/s]"
     ]
    },
    {
     "name": "stdout",
     "output_type": "stream",
     "text": [
      "[['Wahid K., Kareem A.', 'The University of Texas MD Anderson Cancer Center'],\n",
      " ['Kaffey Z., Zaphanlene Y.',\n",
      "  'The University of Texas MD Anderson Cancer Center'],\n",
      " ['Farris D., David P.', 'The University of Texas MD Anderson Cancer Center'],\n",
      " ['Humbert-Vidan L., Laia',\n",
      "  'The University of Texas MD Anderson Cancer Center'],\n",
      " ['Moreno A., Amy Catherine',\n",
      "  'The University of Texas MD Anderson Cancer Center'],\n",
      " ['Rasmussen M., Mathis Ersted', 'Aarhus Universitetshospital'],\n",
      " ['Ren J., Jintao', 'Aarhus Universitet'],\n",
      " ['Naser M., Mohamed A.', 'The University of Texas MD Anderson Cancer Center'],\n",
      " ['Netherton T., Tucker J.',\n",
      "  'The University of Texas MD Anderson Cancer Center'],\n",
      " ['Korreman S., Stine Sofia', 'Aarhus Universitet']]\n"
     ]
    },
    {
     "name": "stderr",
     "output_type": "stream",
     "text": [
      "\n"
     ]
    }
   ],
   "source": [
    "all_author_info = []\n",
    "for temp_scopus_id in tqdm.tqdm(all_coauthor_IDs):\n",
    "    temp_author = AuthorRetrieval(temp_scopus_id)\n",
    "    temp_given_name = temp_author.given_name\n",
    "    temp_indexed_name = temp_author.indexed_name,\n",
    "    if type(temp_indexed_name) == tuple:\n",
    "        temp_indexed_name = list(temp_indexed_name)[0]\n",
    "    try:\n",
    "        temp_department = temp_author.affiliation_current[0].preferred_name,\n",
    "        if type(temp_department) == tuple:\n",
    "            temp_department = list(temp_department)[0]\n",
    "    except TypeError:\n",
    "        temp_department = ''\n",
    "    try:\n",
    "        temp_institution = temp_author.affiliation_current[0].parent_preferred_name\n",
    "    except TypeError:\n",
    "        temp_institution = ''\n",
    "    if not temp_institution:\n",
    "        temp_institution = temp_department\n",
    "    all_author_info.append([\n",
    "        f'{temp_indexed_name}, {temp_given_name}',\n",
    "        # temp_department,\n",
    "        temp_institution\n",
    "    ])\n",
    "\n",
    "pprint.pprint(all_author_info[:10])"
   ]
  },
  {
   "cell_type": "markdown",
   "metadata": {},
   "source": [
    "# Save the results to a CSV file"
   ]
  },
  {
   "cell_type": "code",
   "execution_count": 9,
   "metadata": {},
   "outputs": [],
   "source": [
    "output_df = pd.DataFrame(\n",
    "    data = all_author_info,\n",
    "    columns = ['Last Name, First Name', 'Institution']\n",
    ")\n",
    "output_df.to_csv('co-author_affiliations.csv', index=None)"
   ]
  }
 ],
 "metadata": {
  "kernelspec": {
   "display_name": "env_3.8",
   "language": "python",
   "name": "python3"
  },
  "language_info": {
   "codemirror_mode": {
    "name": "ipython",
    "version": 3
   },
   "file_extension": ".py",
   "mimetype": "text/x-python",
   "name": "python",
   "nbconvert_exporter": "python",
   "pygments_lexer": "ipython3",
   "version": "3.8.10"
  }
 },
 "nbformat": 4,
 "nbformat_minor": 2
}
